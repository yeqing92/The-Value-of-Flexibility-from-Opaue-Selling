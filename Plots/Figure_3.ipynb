{
 "cells": [
  {
   "cell_type": "code",
   "execution_count": 3,
   "metadata": {},
   "outputs": [],
   "source": [
    "from matplotlib import pyplot as plt\n",
    "import pandas as pd\n",
    "import numpy as np\n",
    "import random\n",
    "import math\n",
    "import csv\n",
    "from collections import Counter\n",
    "import itertools\n",
    "import copy\n",
    "import os\n",
    "import glob\n",
    "import json\n",
    "\n",
    "def simulate_ER(n,prob, opq_prob, opq_Set,S, iteration):\n",
    "    # remember to sort q in descending order\n",
    "    R_list = []\n",
    "    num_choice = n + len(opq_Set)\n",
    "    population = list(range(num_choice))\n",
    "    weight = prob+opq_prob\n",
    "    for t in range(iteration):\n",
    "        inv = [S for i in range(n)]\n",
    "        flag = 1\n",
    "        while flag ==1:\n",
    "            choice = random.choices(population, weights=weight, k=1)[0]\n",
    "            if choice<n:\n",
    "                inv[choice] = inv[choice]-1\n",
    "            else:\n",
    "                choice = opq_Set[choice-n]\n",
    "                index_max = np.argmax([inv[index] for index in choice])\n",
    "                inv[choice[index_max]] = inv[choice[index_max]] -1\n",
    "            if min(inv)==0:\n",
    "                R_list.append(n*S-sum(inv))\n",
    "                flag = 0      \n",
    "    return(np.average(R_list), np.average([i**2 for i in R_list]))\n",
    "\n",
    "def cost(n,h,K,lamb, S, ER,ER2):\n",
    "    holding = (2*n*S+1)*ER-ER2\n",
    "    holding = float(h*holding)/(2*lamb*ER)\n",
    "    ordering = float(K)/ER\n",
    "    return(holding+ordering, holding, ordering)\n",
    "\n",
    "\n",
    "# Parameters\n",
    "\n",
    "n=3\n",
    "K=10000\n",
    "h=1\n",
    "lamb=1\n",
    "S = 50\n",
    "\n",
    "# traditional selling, no opaque\n",
    "q=0\n",
    "prob = [float(1-q)/n for i in range(n)]\n",
    "opq_Set = [[i for i in range(n)]]\n",
    "opq_prob = [q]\n",
    "[ER, ER2] = simulate_ER(n,prob, opq_prob, opq_Set,S, 20000)\n",
    "baseline1 = cost(n,h,K,lamb, S, ER,ER2)\n",
    "\n",
    "# compute the cost for symmetric q\n",
    "new_list = np.arange(0.1, 0.75, 0.01)\n",
    "baseline2 = []\n",
    "for q in new_list:\n",
    "    prob = [float(1-q)/n for i in range(n)]\n",
    "    opq_Set = [[i for i in range(n)]]\n",
    "    opq_prob = [q]\n",
    "    [ER, ER2] = simulate_ER(n,prob, opq_prob, opq_Set,S, 20000)\n",
    "    baseline2.append( cost(n,h,K,lamb, S, ER,ER2)[0])\n",
    "    \n",
    "\n",
    "# enumerete the asymmetric q1, q2, and q3 with q_min = 0.1\n",
    "q3 = 0.1 # fix q_min at 0.1\n",
    "q2_list = np.arange(0.1, 1, 0.01) # enumerate q2 from 0.1 to 1\n",
    "\n",
    "opq_Set = [list(range(n))]\n",
    "qlist = []\n",
    "result = []\n",
    "for q2 in q2_list:\n",
    "    print(q2)\n",
    "    qtemp = []\n",
    "    temp = []\n",
    "    for q1 in np.arange(q2, 1, 0.01): # enumerate q1 from q2 to 1\n",
    "        q = float(q1+q2+q3)/n\n",
    "        opq_prob = [q]\n",
    "        qtemp.append(q)\n",
    "        prob = [float(1-q1)/n, float(1-q2)/n, float(1-q3)/n]\n",
    "        [ER, ER2] = simulate_ER(n,prob, opq_prob, opq_Set, S, 20000)\n",
    "        temp.append(cost(n,h,K,lamb, S, ER,ER2)[0])\n",
    "    qlist.append(qtemp)\n",
    "    result.append(temp)\n",
    "\n",
    "# generate figure 3, March 1st 2024\n",
    "flatq =  list(itertools.chain.from_iterable(qlist))\n",
    "flatresult = list(itertools.chain.from_iterable(result))\n",
    "\n",
    "# plot figure 3 (a)\n",
    "fig = plt.figure(figsize=(12, 5))\n",
    "ax = plt.subplot(1, 2, 1)\n",
    "y = plt.plot(new_list, [100*(baseline1[0] - i)/baseline1[0] for i in baseline2], 'o-', label = '$symmetric, q_{min} = q_i$')\n",
    "y=plt.plot( flatq, [100*(baseline1[0] - i)/baseline1[0] for i in flatresult], '*', color = 'c', label = '$asymmetric, q_{min} = 0.1$')\n",
    "\n",
    "plt.ylabel('Relative Cost Savings (%)', fontsize = 14)\n",
    "plt.xlabel('Total Fraction of Opaque Customers', fontsize = 14)\n",
    "plt.yticks(fontsize = 14)\n",
    "plt.xticks(fontsize = 14)\n",
    "ax.spines['right'].set_visible(False)\n",
    "ax.spines['top'].set_visible(False)\n",
    "plt.xlim(0, 0.75)\n",
    "plt.ylim(4, 10)\n",
    "plt.title('(a)', y = -0.25, fontsize = 14)\n",
    "\n",
    "# plot figure 3 (b)\n",
    "ax = plt.subplot(1, 2, 2)\n",
    "y = plt.plot(new_list, [100*(baseline1[0] - i)/baseline1[0] for i in baseline2], 'o-', label = '$symmetric, q_{min} = q_i$')\n",
    "create_marker = plt.plot([], [],  '*', color='c',label='$asymmetric, q_{min} = 0.1$')\n",
    "y = plt.plot(qlist[10], [100*(baseline1[0] - i)/baseline1[0] for i in result[10]], '^', label = '$ q_{2} = 0.2, q_{3}\\geq q_{2}$')\n",
    "y = plt.plot(qlist[30], [100*(baseline1[0] - i)/baseline1[0] for i in result[30]], 'D', label = '$q_{2} = 0.4, q_{3}\\geq q_{2}$')\n",
    "y = plt.plot(qlist[50], [100*(baseline1[0] - i)/baseline1[0] for i in result[50]], 's', label = '$ q_{2} = 0.6, q_{3}\\geq q_{2}$')\n",
    "y = plt.plot(qlist[70], [100*(baseline1[0] - i)/baseline1[0] for i in result[70]], 'x', label = '$q_{2} = 0.8, q_{3}\\geq q_{2}$')\n",
    "\n",
    "plt.ylabel('Relative Cost Savings (%)', fontsize = 14)\n",
    "plt.xlabel('Total Fraction of Opaque Customers', fontsize = 14)\n",
    "plt.yticks(fontsize = 14)\n",
    "plt.xticks(fontsize = 14)\n",
    "# plt.legend(fontsize = 12, loc = 'best')\n",
    "ax.spines['right'].set_visible(False)\n",
    "ax.spines['top'].set_visible(False)\n",
    "plt.xlim(0, 0.75)\n",
    "plt.ylim(4, 10)\n",
    "plt.legend(fontsize = 12, loc = (1.01, 0.2))\n",
    "plt.title('(b)', y = -0.25, fontsize = 14)\n",
    "\n",
    "plt.show()\n",
    "#fig.savefig('asym_vs_sym.pdf',bbox_inches='tight')"
   ]
  },
  {
   "cell_type": "code",
   "execution_count": null,
   "metadata": {},
   "outputs": [],
   "source": [
    "# traditional selling, no opaque\n",
    "q=0\n",
    "prob = [float(1-q)/n for i in range(n)]\n",
    "opq_Set = [[i for i in range(n)]]\n",
    "opq_prob = [q]\n",
    "[ER, ER2] = simulate_ER(n,prob, opq_prob, opq_Set,S, 20000)\n",
    "baseline1 = cost(n,h,K,lamb, S, ER,ER2)\n",
    "\n",
    "# compute the cost for symmetric q\n",
    "\n",
    "new_list = np.arange(0.1, 0.75, 0.01)\n",
    "baseline2 = []\n",
    "for q in new_list:\n",
    "    prob = [float(1-q)/n for i in range(n)]\n",
    "    opq_Set = [[i for i in range(n)]]\n",
    "    opq_prob = [q]\n",
    "    [ER, ER2] = simulate_ER(n,prob, opq_prob, opq_Set,S, 20000)\n",
    "    baseline2.append( cost(n,h,K,lamb, S, ER,ER2)[0])"
   ]
  },
  {
   "cell_type": "code",
   "execution_count": 18,
   "metadata": {},
   "outputs": [
    {
     "name": "stdout",
     "output_type": "stream",
     "text": [
      "0.1\n",
      "0.11\n",
      "0.12\n",
      "0.13\n",
      "0.13999999999999999\n",
      "0.14999999999999997\n",
      "0.15999999999999998\n",
      "0.16999999999999998\n",
      "0.17999999999999997\n",
      "0.18999999999999995\n",
      "0.19999999999999996\n",
      "0.20999999999999996\n",
      "0.21999999999999995\n",
      "0.22999999999999995\n",
      "0.23999999999999994\n",
      "0.24999999999999992\n",
      "0.2599999999999999\n",
      "0.2699999999999999\n",
      "0.2799999999999999\n",
      "0.2899999999999999\n",
      "0.29999999999999993\n",
      "0.30999999999999994\n",
      "0.3199999999999999\n",
      "0.32999999999999985\n",
      "0.33999999999999986\n",
      "0.34999999999999987\n",
      "0.3599999999999999\n",
      "0.3699999999999999\n",
      "0.3799999999999999\n",
      "0.3899999999999999\n",
      "0.3999999999999998\n",
      "0.4099999999999998\n",
      "0.4199999999999998\n",
      "0.4299999999999998\n",
      "0.43999999999999984\n",
      "0.44999999999999984\n",
      "0.45999999999999985\n",
      "0.46999999999999986\n",
      "0.47999999999999976\n",
      "0.48999999999999977\n",
      "0.4999999999999998\n",
      "0.5099999999999998\n",
      "0.5199999999999998\n",
      "0.5299999999999998\n",
      "0.5399999999999998\n",
      "0.5499999999999998\n",
      "0.5599999999999997\n",
      "0.5699999999999997\n",
      "0.5799999999999997\n",
      "0.5899999999999997\n",
      "0.5999999999999998\n",
      "0.6099999999999998\n",
      "0.6199999999999998\n",
      "0.6299999999999997\n",
      "0.6399999999999997\n",
      "0.6499999999999997\n",
      "0.6599999999999997\n",
      "0.6699999999999997\n",
      "0.6799999999999997\n",
      "0.6899999999999997\n",
      "0.6999999999999996\n",
      "0.7099999999999996\n",
      "0.7199999999999996\n",
      "0.7299999999999996\n",
      "0.7399999999999997\n",
      "0.7499999999999997\n",
      "0.7599999999999997\n",
      "0.7699999999999997\n",
      "0.7799999999999997\n",
      "0.7899999999999996\n",
      "0.7999999999999996\n",
      "0.8099999999999996\n",
      "0.8199999999999996\n",
      "0.8299999999999996\n",
      "0.8399999999999996\n",
      "0.8499999999999996\n",
      "0.8599999999999995\n",
      "0.8699999999999996\n",
      "0.8799999999999996\n",
      "0.8899999999999996\n",
      "0.8999999999999996\n",
      "0.9099999999999996\n",
      "0.9199999999999996\n",
      "0.9299999999999996\n",
      "0.9399999999999996\n",
      "0.9499999999999995\n",
      "0.9599999999999995\n",
      "0.9699999999999995\n",
      "0.9799999999999995\n",
      "0.9899999999999995\n"
     ]
    }
   ],
   "source": [
    "q3 = 0.1 # fix q_min at 0.1\n",
    "q2_list = np.arange(0.1, 1, 0.01) # enumerate q2 from 0.1 to 1\n",
    "\n",
    "opq_Set = [list(range(n))]\n",
    "qlist = []\n",
    "result = []\n",
    "for q2 in q2_list:\n",
    "    print(q2)\n",
    "    qtemp = []\n",
    "    temp = []\n",
    "    for q1 in np.arange(q2, 1, 0.01): # enumerate q1 from q2 to 1\n",
    "        q = float(q1+q2+q3)/n\n",
    "        opq_prob = [q]\n",
    "        qtemp.append(q)\n",
    "        prob = [float(1-q1)/n, float(1-q2)/n, float(1-q3)/n]\n",
    "        [ER, ER2] = simulate_ER(n,prob, opq_prob, opq_Set, S, 20000)\n",
    "        temp.append(cost(n,h,K,lamb, S, ER,ER2)[0])\n",
    "    qlist.append(qtemp)\n",
    "    result.append(temp)\n",
    "\n",
    "        "
   ]
  },
  {
   "cell_type": "code",
   "execution_count": 20,
   "metadata": {},
   "outputs": [],
   "source": [
    "new_list = np.arange(0.1, 0.75, 0.01)\n",
    "baseline2 = [152.5829189630361, 151.95725486479768, 151.59251380843034, 151.12325876257108, 150.79486855794946, 150.38997178142608, 150.0232682053501, 149.6549869769778, 149.34097894952546, 149.05619027242653, 148.75421183527635, 148.53286767394027, 148.23143685280604, 148.06515302115483, 147.85259690218487, 147.71688980857547, 147.51109727546697, 147.33204928291337, 147.22595227966917, 147.00073037047412, 146.89382189069204, 146.75182945791428, 146.62979754187484, 146.51954595056975, 146.4510094600692, 146.31866507735862, 146.2402964405585, 146.14083363963528, 146.07057042289, 145.97082607181397, 145.93074384352823, 145.8019575114328, 145.7399251669794, 145.69347988282516, 145.63952246132487, 145.5571177756426, 145.4988052741999, 145.44060898258178, 145.41502124183285, 145.34981192119272, 145.3145737248455, 145.23540990174024, 145.19141848328775, 145.15854333668358, 145.12244047691988, 145.08865693878266, 145.03023724524073, 144.99792277751988, 144.9550419465255, 144.9234327737762, 144.90272428419613, 144.86778085191034, 144.82694587388121, 144.78749020332265, 144.7553791239271, 144.7276144999367, 144.70607326168437, 144.6708347357335, 144.64561713814476, 144.62481217951807, 144.59594682625618, 144.58921846484384, 144.55665746581207, 144.5261613216254, 144.49846778000418]"
   ]
  },
  {
   "cell_type": "code",
   "execution_count": 150,
   "metadata": {},
   "outputs": [
    {
     "data": {
      "image/png": "[encoded data removed]",
      "text/plain": [
       "<Figure size 864x360 with 2 Axes>"
      ]
     },
     "metadata": {
      "needs_background": "light"
     },
     "output_type": "display_data"
    }
   ],
   "source": [
    "# generate figure 3, March 1st 2024\n",
    "\n",
    "flatq =  list(itertools.chain.from_iterable(qlist))\n",
    "flatresult = list(itertools.chain.from_iterable(result))\n",
    "# print(flatresult)\n",
    "############################################################################\n",
    "# plot figure 3\n",
    "fig = plt.figure(figsize=(12, 5))\n",
    "ax = plt.subplot(1, 2, 1)\n",
    "y = plt.plot(new_list, [100*(baseline1[0] - i)/baseline1[0] for i in baseline2], 'o-', label = '$symmetric, q_{min} = q_i$')\n",
    "y=plt.plot( flatq, [100*(baseline1[0] - i)/baseline1[0] for i in flatresult], '*', color = 'c', label = '$asymmetric, q_{min} = 0.1$')\n",
    "\n",
    "plt.ylabel('Relative Cost Savings (%)', fontsize = 14)\n",
    "plt.xlabel('Total Fraction of Opaque Customers', fontsize = 14)\n",
    "plt.yticks(fontsize = 14)\n",
    "plt.xticks(fontsize = 14)\n",
    "ax.spines['right'].set_visible(False)\n",
    "ax.spines['top'].set_visible(False)\n",
    "\n",
    "plt.xlim(0, 0.75)\n",
    "plt.ylim(4, 10)\n",
    "plt.title('(a)', y = -0.25, fontsize = 14)\n",
    "\n",
    "\n",
    "ax = plt.subplot(1, 2, 2)\n",
    "# y=plt.plot( qlist[0], [100*(baseline1[0] - i)/baseline1[0] for i in result[0]], '*', label = '$ q_{2} = 0.1$')\n",
    "y = plt.plot(new_list, [100*(baseline1[0] - i)/baseline1[0] for i in baseline2], 'o-', label = '$symmetric, q_{min} = q_i$')\n",
    "create_marker = plt.plot([], [],  '*', color='c',label='$asymmetric, q_{min} = 0.1$')\n",
    "\n",
    "y = plt.plot(qlist[10], [100*(baseline1[0] - i)/baseline1[0] for i in result[10]], '^', label = '$ q_{2} = 0.2, q_{3}\\geq q_{2}$')\n",
    "# y = plt.plot(qlist[30], [100*(baseline1[0] - i)/baseline1[0] for i in result[30]], 'o', label = '$ q_{2} = 0.4$')\n",
    "y = plt.plot(qlist[30], [100*(baseline1[0] - i)/baseline1[0] for i in result[30]], 'D', label = '$q_{2} = 0.4, q_{3}\\geq q_{2}$')\n",
    "# y = plt.plot(qlist[50], [100*(baseline1[0] - i)/baseline1[0] for i in result[50]], '*', label = '$ q_{2} = 0.6$')\n",
    "y = plt.plot(qlist[50], [100*(baseline1[0] - i)/baseline1[0] for i in result[50]], 's', label = '$ q_{2} = 0.6, q_{3}\\geq q_{2}$')\n",
    "# y = plt.plot(qlist[70], [100*(baseline1[0] - i)/baseline1[0] for i in result[70]], '*', label = '$ q_{2} = 0.8$')\n",
    "y = plt.plot(qlist[70], [100*(baseline1[0] - i)/baseline1[0] for i in result[70]], 'x', label = '$q_{2} = 0.8, q_{3}\\geq q_{2}$')\n",
    "\n",
    "\n",
    "\n",
    "\n",
    "plt.ylabel('Relative Cost Savings (%)', fontsize = 14)\n",
    "plt.xlabel('Total Fraction of Opaque Customers', fontsize = 14)\n",
    "plt.yticks(fontsize = 14)\n",
    "plt.xticks(fontsize = 14)\n",
    "# plt.legend(fontsize = 12, loc = 'best')\n",
    "ax.spines['right'].set_visible(False)\n",
    "ax.spines['top'].set_visible(False)\n",
    "plt.xlim(0, 0.75)\n",
    "plt.ylim(4, 10)\n",
    "plt.legend(fontsize = 12, loc = (1.01, 0.2))\n",
    "plt.title('(b)', y = -0.25, fontsize = 14)\n",
    "\n",
    "plt.show()\n",
    "fig.savefig('asym_vs_sym.pdf',bbox_inches='tight')"
   ]
  },
  {
   "cell_type": "code",
   "execution_count": 17,
   "metadata": {},
   "outputs": [
    {
     "name": "stdout",
     "output_type": "stream",
     "text": [
      "146.0979607002736\n",
      "145.67567397622048\n"
     ]
    }
   ],
   "source": [
    "q1 = 0.4\n",
    "q2 = 0.5\n",
    "q3 = 0.6\n",
    "\n",
    "prob = [float(1-q1)/n, float(1-q2)/n, float(1-q3)/n]\n",
    "[ER, ER2] = simulate_ER(n,prob, opq_prob, opq_Set, S, 10000)\n",
    "print(cost(n,h,K,lamb, S, ER,ER2)[0] )\n",
    "\n",
    "\n",
    "q1 = 0.6\n",
    "q2 = 0.5\n",
    "q3 = 0.4\n",
    "\n",
    "prob = [float(1-q1)/n, float(1-q2)/n, float(1-q3)/n]\n",
    "[ER, ER2] = simulate_ER(n,prob, opq_prob, opq_Set, S, 10000)\n",
    "print(cost(n,h,K,lamb, S, ER,ER2)[0] )"
   ]
  },
  {
   "cell_type": "code",
   "execution_count": 28,
   "metadata": {},
   "outputs": [
    {
     "data": {
      "text/plain": [
       "148.88415971763987"
      ]
     },
     "execution_count": 28,
     "metadata": {},
     "output_type": "execute_result"
    }
   ],
   "source": [
    "min(flatresult)"
   ]
  },
  {
   "cell_type": "code",
   "execution_count": 30,
   "metadata": {},
   "outputs": [],
   "source": [
    "import json\n",
    "\n",
    "txtname2 = \"Figure3_asymmetric.txt\"\n",
    "with open(txtname2, 'w') as out_file:\n",
    "    json.dump(flatresult, out_file)"
   ]
  },
  {
   "cell_type": "code",
   "execution_count": 31,
   "metadata": {},
   "outputs": [],
   "source": [
    "import json\n",
    "\n",
    "txtname2 = \"Figure3_asymmetric_q.txt\"\n",
    "with open(txtname2, 'w') as out_file:\n",
    "    json.dump(flatq, out_file)"
   ]
  },
  {
   "cell_type": "code",
   "execution_count": 109,
   "metadata": {},
   "outputs": [
    {
     "data": {
      "image/png": "[encoded data removed]",
      "text/plain": [
       "<Figure size 360x432 with 1 Axes>"
      ]
     },
     "metadata": {
      "needs_background": "light"
     },
     "output_type": "display_data"
    }
   ],
   "source": [
    "# flatq =  list(itertools.chain.from_iterable(qlist))\n",
    "# flatresult = list(itertools.chain.from_iterable(result))\n",
    "# print(flatresult)\n",
    "############################################################################\n",
    "# plot figure 3\n",
    "fig = plt.figure(figsize=(5, 6))\n",
    "# ax = plt.subplot(1, 1, 1)\n",
    "# y=plt.plot( qlist[0], [100*(baseline1[0] - i)/baseline1[0] for i in result[0]], '*', label = '$ q_{2} = 0.1$')\n",
    "y = plt.plot(new_list, [100*(baseline1[0] - i)/baseline1[0] for i in baseline2], 'o-', label = 'symmetric, q_{min} = q_i')\n",
    "y = plt.plot(qlist[10], [100*(baseline1[0] - i)/baseline1[0] for i in result[10]], '^', label = '$ q_{2} = 0.2, q_{3}\\geq q_{2}$')\n",
    "# y = plt.plot(qlist[30], [100*(baseline1[0] - i)/baseline1[0] for i in result[30]], 'o', label = '$ q_{2} = 0.4$')\n",
    "y = plt.plot(qlist[30], [100*(baseline1[0] - i)/baseline1[0] for i in result[30]], 'D', label = '$q_{2} = 0.4, q_{3}\\geq q_{2}$')\n",
    "# y = plt.plot(qlist[50], [100*(baseline1[0] - i)/baseline1[0] for i in result[50]], '*', label = '$ q_{2} = 0.6$')\n",
    "y = plt.plot(qlist[50], [100*(baseline1[0] - i)/baseline1[0] for i in result[50]], '*', label = '$ q_{2} = 0.6, q_{3}\\geq q_{2}$')\n",
    "# y = plt.plot(qlist[70], [100*(baseline1[0] - i)/baseline1[0] for i in result[70]], '*', label = '$ q_{2} = 0.8$')\n",
    "y = plt.plot(qlist[70], [100*(baseline1[0] - i)/baseline1[0] for i in result[70]], 'x', label = '$q_{2} = 0.8, q_{3}\\geq q_{2}$')\n",
    "\n",
    "plt.ylabel('Relative Cost Savings (%)', fontsize = 14)\n",
    "plt.xlabel('Total Fraction of Opaque Customers', fontsize = 14)\n",
    "plt.yticks(fontsize = 14)\n",
    "plt.xticks(fontsize = 14)\n",
    "plt.legend(fontsize = 12, loc = 'best')\n",
    "ax.spines['right'].set_visible(False)\n",
    "ax.spines['top'].set_visible(False)\n",
    "\n",
    "# plt.xlim(0.1, 0.65)\n",
    "# plt.ylim(5,9.5)\n",
    "plt.show()\n",
    "fig.savefig('asym_vs_sym_specific.pdf',bbox_inches='tight')"
   ]
  },
  {
   "cell_type": "code",
   "execution_count": 177,
   "metadata": {},
   "outputs": [
    {
     "data": {
      "text/plain": [
       "6.621562986382603"
      ]
     },
     "execution_count": 177,
     "metadata": {},
     "output_type": "execute_result"
    }
   ],
   "source": [
    "max([100*(baseline1[0] - i)/baseline1[0] for i in result[70]])"
   ]
  },
  {
   "cell_type": "code",
   "execution_count": 176,
   "metadata": {},
   "outputs": [
    {
     "data": {
      "text/plain": [
       "6.50686804457962"
      ]
     },
     "execution_count": 176,
     "metadata": {},
     "output_type": "execute_result"
    }
   ],
   "source": [
    "min([100*(baseline1[0] - i)/baseline1[0] for i in result[70]])"
   ]
  },
  {
   "cell_type": "code",
   "execution_count": 158,
   "metadata": {},
   "outputs": [
    {
     "data": {
      "text/plain": [
       "4.385579105832403"
      ]
     },
     "execution_count": 158,
     "metadata": {},
     "output_type": "execute_result"
    }
   ],
   "source": [
    "min([100*(baseline1[0] - i)/baseline1[0] for i in flatresult])"
   ]
  },
  {
   "cell_type": "code",
   "execution_count": 159,
   "metadata": {},
   "outputs": [
    {
     "data": {
      "text/plain": [
       "6.700550857136504"
      ]
     },
     "execution_count": 159,
     "metadata": {},
     "output_type": "execute_result"
    }
   ],
   "source": [
    "max([100*(baseline1[0] - i)/baseline1[0] for i in flatresult])"
   ]
  },
  {
   "cell_type": "code",
   "execution_count": 160,
   "metadata": {},
   "outputs": [
    {
     "data": {
      "text/plain": [
       "9.448879777202459"
      ]
     },
     "execution_count": 160,
     "metadata": {},
     "output_type": "execute_result"
    }
   ],
   "source": [
    "max([100*(baseline1[0] - i)/baseline1[0] for i in baseline2])"
   ]
  },
  {
   "cell_type": "code",
   "execution_count": 169,
   "metadata": {},
   "outputs": [
    {
     "data": {
      "text/plain": [
       "0.6999999999999996"
      ]
     },
     "execution_count": 169,
     "metadata": {},
     "output_type": "execute_result"
    }
   ],
   "source": [
    "new_list[60]\n",
    "# baseline2[10]"
   ]
  },
  {
   "cell_type": "code",
   "execution_count": 170,
   "metadata": {},
   "outputs": [
    {
     "data": {
      "text/plain": [
       "[9.387793753440548]"
      ]
     },
     "execution_count": 170,
     "metadata": {},
     "output_type": "execute_result"
    }
   ],
   "source": [
    "[100*(baseline1[0] - i)/baseline1[0] for i in [baseline2[60]]]"
   ]
  },
  {
   "cell_type": "code",
   "execution_count": 174,
   "metadata": {},
   "outputs": [
    {
     "data": {
      "text/plain": [
       "[0.2999999999999999,\n",
       " 0.3033333333333332,\n",
       " 0.30666666666666653,\n",
       " 0.3099999999999999,\n",
       " 0.3133333333333332,\n",
       " 0.31666666666666654,\n",
       " 0.3199999999999999,\n",
       " 0.3233333333333332,\n",
       " 0.32666666666666655,\n",
       " 0.3299999999999999,\n",
       " 0.3333333333333332,\n",
       " 0.3366666666666666,\n",
       " 0.3399999999999999,\n",
       " 0.34333333333333327,\n",
       " 0.3466666666666666,\n",
       " 0.3499999999999999,\n",
       " 0.3533333333333333,\n",
       " 0.35666666666666663,\n",
       " 0.35999999999999993,\n",
       " 0.3633333333333333,\n",
       " 0.36666666666666664,\n",
       " 0.36999999999999994,\n",
       " 0.3733333333333333,\n",
       " 0.37666666666666665,\n",
       " 0.37999999999999995,\n",
       " 0.3833333333333333,\n",
       " 0.38666666666666666,\n",
       " 0.38999999999999996,\n",
       " 0.3933333333333333,\n",
       " 0.39666666666666667,\n",
       " 0.39999999999999997,\n",
       " 0.4033333333333333,\n",
       " 0.4066666666666667,\n",
       " 0.41,\n",
       " 0.41333333333333333,\n",
       " 0.4166666666666667,\n",
       " 0.42,\n",
       " 0.42333333333333334,\n",
       " 0.4266666666666667,\n",
       " 0.43,\n",
       " 0.43333333333333335,\n",
       " 0.4366666666666667,\n",
       " 0.44,\n",
       " 0.44333333333333336,\n",
       " 0.4466666666666667,\n",
       " 0.45,\n",
       " 0.45333333333333337,\n",
       " 0.4566666666666667,\n",
       " 0.46,\n",
       " 0.4633333333333334,\n",
       " 0.46666666666666673,\n",
       " 0.47000000000000003,\n",
       " 0.4733333333333334,\n",
       " 0.47666666666666674,\n",
       " 0.48000000000000004,\n",
       " 0.4833333333333334,\n",
       " 0.48666666666666675,\n",
       " 0.49000000000000005,\n",
       " 0.4933333333333334,\n",
       " 0.49666666666666676,\n",
       " 0.5000000000000001]"
      ]
     },
     "execution_count": 174,
     "metadata": {},
     "output_type": "execute_result"
    }
   ],
   "source": []
  },
  {
   "cell_type": "code",
   "execution_count": null,
   "metadata": {},
   "outputs": [],
   "source": []
  }
 ],
 "metadata": {
  "kernelspec": {
   "display_name": "Python 3",
   "language": "python",
   "name": "python3"
  },
  "language_info": {
   "codemirror_mode": {
    "name": "ipython",
    "version": 3
   },
   "file_extension": ".py",
   "mimetype": "text/x-python",
   "name": "python",
   "nbconvert_exporter": "python",
   "pygments_lexer": "ipython3",
   "version": "3.7.3"
  }
 },
 "nbformat": 4,
 "nbformat_minor": 5
}
